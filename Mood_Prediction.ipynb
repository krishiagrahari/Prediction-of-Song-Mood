{
 "cells": [
  {
   "cell_type": "markdown",
   "metadata": {},
   "source": [
    "## Major Project : Music Mood Prediction\n",
    "#### Krishi Agrahari, Rajsi Kesharwani, Nikhil Kamale, Kirti Mohitkar, Shazia Khan\n",
    "\n"
   ]
  },
  {
   "cell_type": "code",
   "execution_count": 1,
   "metadata": {},
   "outputs": [],
   "source": [
    "%matplotlib inline\n",
    "import numpy as np\n",
    "import pandas as pd\n",
    "import matplotlib.pyplot as plt\n",
    "import seaborn as sns\n",
    "import warnings\n",
    "import requests\n",
    "import json\n",
    "warnings.filterwarnings(\"ignore\")"
   ]
  },
  {
   "cell_type": "markdown",
   "metadata": {},
   "source": [
    "## Part 2 : Data Pre-processing\n",
    "\n",
    "### We need to preprocess lyrics to use it for NLP models. The main preprocessing steps are - Tokenize Words, Stemming, Stop-word removal, Lemmatization. "
   ]
  },
  {
   "cell_type": "code",
   "execution_count": 2,
   "metadata": {},
   "outputs": [
    {
     "name": "stderr",
     "output_type": "stream",
     "text": [
      "[nltk_data] Error loading punkt: <urlopen error [Errno 11001]\n",
      "[nltk_data]     getaddrinfo failed>\n",
      "[nltk_data] Error loading wordnet: <urlopen error [Errno 11001]\n",
      "[nltk_data]     getaddrinfo failed>\n",
      "[nltk_data] Error loading averaged_perceptron_tagger: <urlopen error\n",
      "[nltk_data]     [Errno 11001] getaddrinfo failed>\n"
     ]
    },
    {
     "data": {
      "text/plain": [
       "False"
      ]
     },
     "execution_count": 2,
     "metadata": {},
     "output_type": "execute_result"
    }
   ],
   "source": [
    "import pandas as pd\n",
    "import numpy as np\n",
    "from nltk.tokenize import word_tokenize\n",
    "from nltk import pos_tag\n",
    "from nltk.corpus import stopwords\n",
    "from nltk.stem import WordNetLemmatizer\n",
    "from sklearn.preprocessing import LabelEncoder\n",
    "from collections import defaultdict\n",
    "from nltk.corpus import wordnet as wn\n",
    "from sklearn.ensemble import RandomForestClassifier\n",
    "import nltk\n",
    "nltk.download('punkt')\n",
    "nltk.download('wordnet')\n",
    "nltk.download('averaged_perceptron_tagger')"
   ]
  },
  {
   "cell_type": "code",
   "execution_count": 3,
   "metadata": {},
   "outputs": [],
   "source": [
    "df=pd.read_csv(\"training_backup.csv\")\n",
    "df_new=pd.read_csv(\"testing_backup.csv\")"
   ]
  },
  {
   "cell_type": "markdown",
   "metadata": {},
   "source": [
    "### Tokenization of words in lyrics"
   ]
  },
  {
   "cell_type": "code",
   "execution_count": 4,
   "metadata": {},
   "outputs": [],
   "source": [
    "df_new['lyrics'] = [entry.lower() for entry in df_new['lyrics']]\n",
    "df_new['lyrics']= [word_tokenize(entry) for entry in df_new['lyrics']]"
   ]
  },
  {
   "cell_type": "code",
   "execution_count": 5,
   "metadata": {},
   "outputs": [],
   "source": [
    "df['lyrics'] = [entry.lower() for entry in df['lyrics']]\n",
    "df['lyrics']= [word_tokenize(entry) for entry in df['lyrics']]"
   ]
  },
  {
   "cell_type": "markdown",
   "metadata": {},
   "source": [
    "### Stemming, Stopword Removal, Lemmatization"
   ]
  },
  {
   "cell_type": "code",
   "execution_count": 6,
   "metadata": {
    "scrolled": true
   },
   "outputs": [],
   "source": [
    "tag_map = defaultdict(lambda : wn.NOUN)\n",
    "tag_map['J'] = wn.ADJ\n",
    "tag_map['V'] = wn.VERB\n",
    "tag_map['R'] = wn.ADV\n",
    "for index,entry in enumerate(df_new['lyrics']):\n",
    "    Final_words = []\n",
    "    word_Lemmatized = WordNetLemmatizer()\n",
    "    for word, tag in pos_tag(entry):\n",
    "        if word not in stopwords.words('english') and word.isalpha():\n",
    "            word_Final = word_Lemmatized.lemmatize(word,tag_map[tag[0]])\n",
    "            Final_words.append(word_Final)\n",
    "    df_new.loc[index,'text_final'] = str(Final_words)"
   ]
  },
  {
   "cell_type": "code",
   "execution_count": 7,
   "metadata": {},
   "outputs": [
    {
     "data": {
      "text/html": [
       "<div>\n",
       "<style scoped>\n",
       "    .dataframe tbody tr th:only-of-type {\n",
       "        vertical-align: middle;\n",
       "    }\n",
       "\n",
       "    .dataframe tbody tr th {\n",
       "        vertical-align: top;\n",
       "    }\n",
       "\n",
       "    .dataframe thead th {\n",
       "        text-align: right;\n",
       "    }\n",
       "</style>\n",
       "<table border=\"1\" class=\"dataframe\">\n",
       "  <thead>\n",
       "    <tr style=\"text-align: right;\">\n",
       "      <th></th>\n",
       "      <th>lyrics</th>\n",
       "      <th>mood</th>\n",
       "    </tr>\n",
       "  </thead>\n",
       "  <tbody>\n",
       "    <tr>\n",
       "      <th>1477</th>\n",
       "      <td>[yeah-yeah, yeah-yeah, yeah-yeah, yeah-yeah, y...</td>\n",
       "      <td>1</td>\n",
       "    </tr>\n",
       "    <tr>\n",
       "      <th>1478</th>\n",
       "      <td>[rip, them, down, hold, me, up, tell, them, th...</td>\n",
       "      <td>3</td>\n",
       "    </tr>\n",
       "    <tr>\n",
       "      <th>1479</th>\n",
       "      <td>[it, 's, way, too, late, to, think, of, someon...</td>\n",
       "      <td>4</td>\n",
       "    </tr>\n",
       "    <tr>\n",
       "      <th>1480</th>\n",
       "      <td>[got, no, place, to, go, but, there, 's, a, gi...</td>\n",
       "      <td>2</td>\n",
       "    </tr>\n",
       "    <tr>\n",
       "      <th>1481</th>\n",
       "      <td>[every, light, in, the, night, flicker, in, an...</td>\n",
       "      <td>1</td>\n",
       "    </tr>\n",
       "  </tbody>\n",
       "</table>\n",
       "</div>"
      ],
      "text/plain": [
       "                                                 lyrics  mood\n",
       "1477  [yeah-yeah, yeah-yeah, yeah-yeah, yeah-yeah, y...     1\n",
       "1478  [rip, them, down, hold, me, up, tell, them, th...     3\n",
       "1479  [it, 's, way, too, late, to, think, of, someon...     4\n",
       "1480  [got, no, place, to, go, but, there, 's, a, gi...     2\n",
       "1481  [every, light, in, the, night, flicker, in, an...     1"
      ]
     },
     "execution_count": 7,
     "metadata": {},
     "output_type": "execute_result"
    }
   ],
   "source": [
    "df.tail()"
   ]
  },
  {
   "cell_type": "code",
   "execution_count": 8,
   "metadata": {},
   "outputs": [],
   "source": [
    "tag_map = defaultdict(lambda : wn.NOUN)\n",
    "tag_map['J'] = wn.ADJ\n",
    "tag_map['V'] = wn.VERB\n",
    "tag_map['R'] = wn.ADV\n",
    "for index,entry in enumerate(df['lyrics']):\n",
    "    Final_words = []\n",
    "    word_Lemmatized = WordNetLemmatizer()\n",
    "    for word, tag in pos_tag(entry):\n",
    "        if word not in stopwords.words('english') and word.isalpha():\n",
    "            word_Final = word_Lemmatized.lemmatize(word,tag_map[tag[0]])\n",
    "            Final_words.append(word_Final)\n",
    "    df.loc[index,'text_final'] = str(Final_words)"
   ]
  },
  {
   "cell_type": "markdown",
   "metadata": {},
   "source": [
    "### Creating Training data, training label, test data, test label"
   ]
  },
  {
   "cell_type": "code",
   "execution_count": 9,
   "metadata": {},
   "outputs": [],
   "source": [
    "train_x = df['text_final']\n",
    "valid_x = df_new['text_final'][:233]\n",
    "train_y = df['mood']\n",
    "valid_y = df_new['mood'][:233]"
   ]
  },
  {
   "cell_type": "markdown",
   "metadata": {},
   "source": [
    "## Part 3 : Feature Engineering\n",
    "\n",
    "### We cannot give input as a list of words in Machine Learning models. Feature Engineering needs to be done for the lyrics column. We will use 3 types of NLP models for this -\n",
    "\n",
    "#### CountVectorizer\n",
    "#### TfidfVectorizer\n",
    "#### Tfidf-NGram Model"
   ]
  },
  {
   "cell_type": "markdown",
   "metadata": {},
   "source": [
    "### At first, Label Encoding -"
   ]
  },
  {
   "cell_type": "code",
   "execution_count": 10,
   "metadata": {},
   "outputs": [],
   "source": [
    "Encoder = LabelEncoder()\n",
    "train_y = Encoder.fit_transform(train_y.ravel())\n",
    "valid_y = Encoder.fit_transform(valid_y.ravel())"
   ]
  },
  {
   "cell_type": "code",
   "execution_count": 11,
   "metadata": {},
   "outputs": [
    {
     "name": "stdout",
     "output_type": "stream",
     "text": [
      "['god', 'need', 'friend', 'god', 'come', 'end', 'god', 'lose', 'mind', 'god', 'find', 'wan', 'na', 'wan', 'na', 'wan', 'na', 'wan', 'na', 'love', 'felt', 'like', 'hate', 'hate', 'felt', 'like', 'love', 'say', 'fear', 'say', 'scar', 'wan', 'na', 'wan', 'na', 'wan', 'na', 'wan', 'na', 'tell', 'believe', 'tell', 'see', 'cause', 'know', 'trust', 'heart', 'fill', 'disgust', 'ca', 'take', 'tell', 'believe', 'tell', 'see', 'cause', 'know', 'trust', 'heart', 'fill', 'disgust', 'tell', 'believe', 'tell', 'believe', 'lady', 'gentleman', 'may', 'attention', 'ready', 'joke', 'ready', 'great', 'deception', 'tell', 'believe', 'tell', 'believe', 'tell', 'believe', 'tell', 'believe', 'tell', 'believe', 'tell', 'believe']\n"
     ]
    }
   ],
   "source": [
    "all_texts = []\n",
    "for items in train_x:\n",
    "    all_texts.append(items) \n",
    "for items in valid_x:\n",
    "    all_texts.append(items)\n",
    "print(all_texts[0])"
   ]
  },
  {
   "cell_type": "code",
   "execution_count": 12,
   "metadata": {},
   "outputs": [],
   "source": [
    "from sklearn import model_selection, preprocessing, linear_model, naive_bayes, metrics, svm\n",
    "from sklearn.feature_extraction.text import TfidfVectorizer, CountVectorizer\n",
    "from sklearn import decomposition, ensemble\n",
    "\n",
    "import pandas,numpy,xgboost, textblob, string\n",
    "from keras.preprocessing import text, sequence\n",
    "from keras import layers, models, optimizers"
   ]
  },
  {
   "cell_type": "markdown",
   "metadata": {},
   "source": [
    "### CountVectorizer Model"
   ]
  },
  {
   "cell_type": "code",
   "execution_count": 13,
   "metadata": {},
   "outputs": [],
   "source": [
    "count_vect = CountVectorizer(analyzer='word')\n",
    "count_vect.fit(all_texts)\n",
    "xtrain_count =  count_vect.transform(train_x)\n",
    "xvalid_count =  count_vect.transform(valid_x)"
   ]
  },
  {
   "cell_type": "markdown",
   "metadata": {},
   "source": [
    "### TfidfVectorizer Model"
   ]
  },
  {
   "cell_type": "code",
   "execution_count": 14,
   "metadata": {},
   "outputs": [],
   "source": [
    "import nltk\n",
    "import string\n",
    "import re\n",
    "\n",
    "porter_stemmer = nltk.stem.porter.PorterStemmer()\n",
    "def porter_tokenizer(text, stemmer=porter_stemmer):\n",
    "    lower_txt = text.lower()\n",
    "    tokens = nltk.wordpunct_tokenize(lower_txt)\n",
    "    stems = [porter_stemmer.stem(t) for t in tokens]\n",
    "    no_punct = [s for s in stems if re.match('^[a-zA-Z]+$', s) is not None]\n",
    "    return no_punct\n",
    "from sklearn.feature_extraction.text import TfidfVectorizer\n",
    "tfidf_vect = TfidfVectorizer(\n",
    "            encoding='utf-8',\n",
    "            decode_error='replace',\n",
    "            strip_accents='unicode',\n",
    "            analyzer='word',\n",
    "            binary=False,\n",
    "            stop_words=\"english\",\n",
    "            tokenizer=porter_tokenizer\n",
    "    )"
   ]
  },
  {
   "cell_type": "markdown",
   "metadata": {},
   "source": [
    "### Tfidf-NGram Model"
   ]
  },
  {
   "cell_type": "code",
   "execution_count": 15,
   "metadata": {},
   "outputs": [],
   "source": [
    "#tfidf_vect = TfidfVectorizer(analyzer='word',max_features=7000)\n",
    "tfidf_vect.fit(all_texts)\n",
    "xtrain_tfidf =  tfidf_vect.transform(train_x)\n",
    "xvalid_tfidf =  tfidf_vect.transform(valid_x)\n",
    "\n",
    "tfidf_vect_ngram = TfidfVectorizer(analyzer='word', ngram_range=(2,2), max_features=7000)\n",
    "tfidf_vect_ngram.fit(all_texts)\n",
    "xtrain_tfidf_ngram =  tfidf_vect_ngram.transform(train_x)\n",
    "xvalid_tfidf_ngram =  tfidf_vect_ngram.transform(valid_x)"
   ]
  },
  {
   "cell_type": "markdown",
   "metadata": {},
   "source": [
    "### Now 3 Training Dataset, 3 Test Dataset are ready to fit into Machine Learning models, one dataset per model defined above."
   ]
  },
  {
   "cell_type": "markdown",
   "metadata": {},
   "source": [
    "## Part 4 : Mood Prediction Model"
   ]
  },
  {
   "cell_type": "code",
   "execution_count": 16,
   "metadata": {},
   "outputs": [],
   "source": [
    "def train_model(classifier, feature_vector_train, label, feature_vector_valid, is_neural_net=False):\n",
    "    classifier.fit(feature_vector_train, label)\n",
    "    predictions = classifier.predict(feature_vector_valid)\n",
    "    return metrics.accuracy_score(predictions, valid_y)"
   ]
  },
  {
   "cell_type": "markdown",
   "metadata": {},
   "source": [
    "### Multinomial Naive Bayes Model"
   ]
  },
  {
   "cell_type": "code",
   "execution_count": 17,
   "metadata": {},
   "outputs": [
    {
     "name": "stdout",
     "output_type": "stream",
     "text": [
      "NB, Count Vectors:  0.5836909871244635\n",
      "NB, WordLevel TF-IDF:  0.4592274678111588\n",
      "NB, N-Gram Vectors:  0.5793991416309013\n"
     ]
    }
   ],
   "source": [
    "accuracy_count_nb = train_model(naive_bayes.MultinomialNB(), xtrain_count, train_y, xvalid_count)\n",
    "print (\"NB, Count Vectors: \", accuracy_count_nb)\n",
    "\n",
    "accuracy_word_nb = train_model(naive_bayes.MultinomialNB(), xtrain_tfidf, train_y, xvalid_tfidf)\n",
    "print (\"NB, WordLevel TF-IDF: \", accuracy_word_nb)\n",
    "\n",
    "accuracy_ngram_nb = train_model(naive_bayes.MultinomialNB(), xtrain_tfidf_ngram, train_y, xvalid_tfidf_ngram)\n",
    "print (\"NB, N-Gram Vectors: \", accuracy_ngram_nb)"
   ]
  },
  {
   "cell_type": "markdown",
   "metadata": {},
   "source": [
    "### Random Forest Classifier"
   ]
  },
  {
   "cell_type": "code",
   "execution_count": 18,
   "metadata": {},
   "outputs": [
    {
     "name": "stdout",
     "output_type": "stream",
     "text": [
      "RF, Count Vectors:  0.6566523605150214\n",
      "RF, WordLevel TF-IDF Vectors:  0.6394849785407726\n",
      "RF, N-Gram Vectors:  0.630901287553648\n"
     ]
    }
   ],
   "source": [
    "accuracy_count_rf = train_model(RandomForestClassifier(n_estimators=100),xtrain_count,train_y,xvalid_count)\n",
    "print(\"RF, Count Vectors: \",accuracy_count_rf)\n",
    "\n",
    "accuracy_word_rf = train_model(RandomForestClassifier(n_estimators=100),xtrain_tfidf,train_y,xvalid_tfidf)\n",
    "print(\"RF, WordLevel TF-IDF Vectors: \",accuracy_word_rf)\n",
    "\n",
    "accuracy_ngram_rf = train_model(RandomForestClassifier(n_estimators=100),xtrain_tfidf_ngram,train_y,xvalid_tfidf_ngram)\n",
    "print(\"RF, N-Gram Vectors: \",accuracy_ngram_rf)"
   ]
  },
  {
   "cell_type": "markdown",
   "metadata": {},
   "source": [
    "### Logistic Regression Model"
   ]
  },
  {
   "cell_type": "code",
   "execution_count": 19,
   "metadata": {},
   "outputs": [
    {
     "name": "stdout",
     "output_type": "stream",
     "text": [
      "LR, Count Vectors:  0.6351931330472103\n",
      "LR, WordLevel TF-IDF:  0.6266094420600858\n",
      "LR, N-Gram Vectors:  0.5836909871244635\n"
     ]
    }
   ],
   "source": [
    "accuracy_count_lc = train_model(linear_model.LogisticRegression(), xtrain_count, train_y, xvalid_count)\n",
    "print (\"LR, Count Vectors: \", accuracy_count_lc)\n",
    "\n",
    "accuracy_word_lc = train_model(linear_model.LogisticRegression(), xtrain_tfidf, train_y, xvalid_tfidf)\n",
    "print (\"LR, WordLevel TF-IDF: \", accuracy_word_lc)\n",
    "\n",
    "accuracy_ngram_lc = train_model(linear_model.LogisticRegression(), xtrain_tfidf_ngram, train_y, xvalid_tfidf_ngram)\n",
    "print (\"LR, N-Gram Vectors: \", accuracy_ngram_lc)"
   ]
  },
  {
   "cell_type": "markdown",
   "metadata": {},
   "source": [
    "### XGBoost Classifier"
   ]
  },
  {
   "cell_type": "code",
   "execution_count": 20,
   "metadata": {},
   "outputs": [
    {
     "name": "stdout",
     "output_type": "stream",
     "text": [
      "[11:20:03] WARNING: C:/Users/Administrator/workspace/xgboost-win64_release_1.3.0/src/learner.cc:1061: Starting in XGBoost 1.3.0, the default evaluation metric used with the objective 'multi:softprob' was changed from 'merror' to 'mlogloss'. Explicitly set eval_metric if you'd like to restore the old behavior.\n",
      "Xgb, Count Vectors:  0.6866952789699571\n",
      "[11:20:06] WARNING: C:/Users/Administrator/workspace/xgboost-win64_release_1.3.0/src/learner.cc:1061: Starting in XGBoost 1.3.0, the default evaluation metric used with the objective 'multi:softprob' was changed from 'merror' to 'mlogloss'. Explicitly set eval_metric if you'd like to restore the old behavior.\n",
      "Xgb, WordLevel TF-IDF:  0.630901287553648\n",
      "[11:20:10] WARNING: C:/Users/Administrator/workspace/xgboost-win64_release_1.3.0/src/learner.cc:1061: Starting in XGBoost 1.3.0, the default evaluation metric used with the objective 'multi:softprob' was changed from 'merror' to 'mlogloss'. Explicitly set eval_metric if you'd like to restore the old behavior.\n",
      "Xgb, Ngram Level Vectors:  0.5665236051502146\n"
     ]
    }
   ],
   "source": [
    "accuracy_count_bo = train_model(xgboost.XGBClassifier(), xtrain_count.tocsc(), train_y, xvalid_count.tocsc())\n",
    "print (\"Xgb, Count Vectors: \", accuracy_count_bo)\n",
    "\n",
    "accuracy_word_bo = train_model(xgboost.XGBClassifier(), xtrain_tfidf.tocsc(), train_y, xvalid_tfidf.tocsc())\n",
    "print (\"Xgb, WordLevel TF-IDF: \", accuracy_word_bo)\n",
    "\n",
    "accuracy_ngram_bo = train_model(xgboost.XGBClassifier(), xtrain_tfidf_ngram.tocsc(), train_y, xvalid_tfidf_ngram.tocsc())\n",
    "print (\"Xgb, Ngram Level Vectors: \", accuracy_ngram_bo)"
   ]
  },
  {
   "cell_type": "markdown",
   "metadata": {},
   "source": [
    "### Bagging - Random Forest"
   ]
  },
  {
   "cell_type": "code",
   "execution_count": 21,
   "metadata": {},
   "outputs": [
    {
     "name": "stdout",
     "output_type": "stream",
     "text": [
      "RF, Count Vectors:  0.6609442060085837\n",
      "RF, WordLevel TF-IDF:  0.6781115879828327\n",
      "RF, Ngram Vectors:  0.6137339055793991\n"
     ]
    }
   ],
   "source": [
    "accuracy_count_bg = train_model(ensemble.RandomForestClassifier(), xtrain_count, train_y, xvalid_count)\n",
    "print (\"RF, Count Vectors: \", accuracy_count_bg)\n",
    "\n",
    "accuracy_word_bg = train_model(ensemble.RandomForestClassifier(), xtrain_tfidf, train_y, xvalid_tfidf)\n",
    "print (\"RF, WordLevel TF-IDF: \", accuracy_word_bg)\n",
    "\n",
    "accuracy_ngram_bg = train_model(ensemble.RandomForestClassifier(), xtrain_tfidf_ngram, train_y, xvalid_tfidf_ngram)\n",
    "print (\"RF, Ngram Vectors: \", accuracy_ngram_bg)"
   ]
  },
  {
   "cell_type": "code",
   "execution_count": 22,
   "metadata": {},
   "outputs": [
    {
     "name": "stdout",
     "output_type": "stream",
     "text": [
      "SVM, Count Vectors:  0.6223175965665236\n",
      "SVM, WordLevel TF-IDF:  0.6523605150214592\n",
      "SVM, Ngram Vectors:  0.6223175965665236\n"
     ]
    }
   ],
   "source": [
    "from sklearn.svm import LinearSVC\n",
    "accuracy_count_svm = train_model(LinearSVC(multi_class=\"ovr\"), xtrain_count, train_y, xvalid_count)\n",
    "print (\"SVM, Count Vectors: \", accuracy_count_svm)\n",
    "\n",
    "accuracy_word_svm = train_model(LinearSVC(multi_class=\"ovr\"), xtrain_tfidf, train_y, xvalid_tfidf)\n",
    "print (\"SVM, WordLevel TF-IDF: \", accuracy_word_svm)\n",
    "\n",
    "accuracy_ngram_svm = train_model(LinearSVC(multi_class=\"ovr\"), xtrain_tfidf_ngram, train_y, xvalid_tfidf_ngram)\n",
    "print (\"SVM, Ngram Vectors: \", accuracy_ngram_svm)"
   ]
  },
  {
   "cell_type": "code",
   "execution_count": 23,
   "metadata": {},
   "outputs": [],
   "source": [
    "\n",
    "import matplotlib as mpl\n",
    "import numpy as np\n",
    "\n",
    "def plot_cm(X, y, clf, title):\n",
    "\n",
    "    cm = metrics.confusion_matrix(y, clf.predict(X))\n",
    "    print(metrics.classification_report(y, clf.predict(X)))\n",
    "    np.set_printoptions(suppress=True)\n",
    "    mpl.rc(\"figure\", figsize=(10,10))\n",
    "\n",
    "    hm = sns.heatmap(cm, \n",
    "            cbar=False,\n",
    "            annot=True, \n",
    "            square=True,\n",
    "            fmt='d',\n",
    "            yticklabels=['happy','sad','angry','relaxed'],\n",
    "            xticklabels=['happy','sad','angry','relaxed'],\n",
    "            cmap='Blues'\n",
    "            )\n",
    "    plt.title(title)\n",
    "    plt.ylabel('actual class')\n",
    "    plt.xlabel('predicted class')\n",
    "    plt.tight_layout()\n",
    "    #plt.savefig(\"rf_tfidf.jpg\")\n",
    "    plt.show()\n",
    "    "
   ]
  },
  {
   "cell_type": "code",
   "execution_count": 24,
   "metadata": {},
   "outputs": [
    {
     "name": "stdout",
     "output_type": "stream",
     "text": [
      "              precision    recall  f1-score   support\n",
      "\n",
      "           0       0.78      0.67      0.72        97\n",
      "           1       0.50      0.84      0.63        68\n",
      "           2       1.00      0.33      0.50        12\n",
      "           3       0.73      0.43      0.54        56\n",
      "\n",
      "    accuracy                           0.64       233\n",
      "   macro avg       0.75      0.57      0.60       233\n",
      "weighted avg       0.70      0.64      0.64       233\n",
      "\n"
     ]
    },
    {
     "data": {
      "image/png": "[encoded data removed]",
      "text/plain": [
       "<Figure size 720x720 with 1 Axes>"
      ]
     },
     "metadata": {
      "needs_background": "light"
     },
     "output_type": "display_data"
    }
   ],
   "source": [
    "# import seaborn as sns\n",
    "import matplotlib.pyplot as plt\n",
    "\n",
    "claf=ensemble.RandomForestClassifier()\n",
    "claf.fit(xtrain_tfidf,train_y)\n",
    "plot_cm(xvalid_tfidf, valid_y, claf, 'Training Word Level - TfidfVectorizer on LR')"
   ]
  },
  {
   "cell_type": "code",
   "execution_count": 25,
   "metadata": {},
   "outputs": [
    {
     "name": "stdout",
     "output_type": "stream",
     "text": [
      "              precision    recall  f1-score   support\n",
      "\n",
      "           0       0.78      0.66      0.72        97\n",
      "           1       0.58      0.66      0.62        68\n",
      "           2       0.44      0.33      0.38        12\n",
      "           3       0.54      0.62      0.58        56\n",
      "\n",
      "    accuracy                           0.64       233\n",
      "   macro avg       0.59      0.57      0.57       233\n",
      "weighted avg       0.65      0.64      0.64       233\n",
      "\n"
     ]
    },
    {
     "data": {
      "image/png": "[encoded data removed]",
      "text/plain": [
       "<Figure size 720x720 with 1 Axes>"
      ]
     },
     "metadata": {
      "needs_background": "light"
     },
     "output_type": "display_data"
    }
   ],
   "source": [
    "# import seaborn as sns\n",
    "import matplotlib.pyplot as plt\n",
    "\n",
    "claf=linear_model.LogisticRegression()\n",
    "claf.fit(xtrain_count,train_y)\n",
    "plot_cm(xvalid_count, valid_y, claf, 'Training CountVectorizer on LR')"
   ]
  },
  {
   "cell_type": "code",
   "execution_count": 26,
   "metadata": {},
   "outputs": [
    {
     "name": "stdout",
     "output_type": "stream",
     "text": [
      "              precision    recall  f1-score   support\n",
      "\n",
      "           0       0.84      0.51      0.63        97\n",
      "           1       0.52      0.78      0.63        68\n",
      "           2       0.80      0.33      0.47        12\n",
      "           3       0.52      0.64      0.58        56\n",
      "\n",
      "    accuracy                           0.61       233\n",
      "   macro avg       0.67      0.57      0.58       233\n",
      "weighted avg       0.67      0.61      0.61       233\n",
      "\n"
     ]
    },
    {
     "data": {
      "image/png": "[encoded data removed]",
      "text/plain": [
       "<Figure size 720x720 with 1 Axes>"
      ]
     },
     "metadata": {
      "needs_background": "light"
     },
     "output_type": "display_data"
    }
   ],
   "source": [
    "# import seaborn as sns\n",
    "import matplotlib.pyplot as plt\n",
    "\n",
    "claf=ensemble.RandomForestClassifier()\n",
    "claf.fit(xtrain_tfidf_ngram,train_y)\n",
    "plot_cm(xvalid_tfidf_ngram, valid_y, claf, 'Training NGram Vectors on RF')"
   ]
  },
  {
   "cell_type": "code",
   "execution_count": 27,
   "metadata": {
    "scrolled": false
   },
   "outputs": [
    {
     "name": "stdout",
     "output_type": "stream",
     "text": [
      "              precision    recall  f1-score   support\n",
      "\n",
      "           0       0.76      0.69      0.72        97\n",
      "           1       0.64      0.69      0.67        68\n",
      "           2       0.80      0.33      0.47        12\n",
      "           3       0.51      0.61      0.55        56\n",
      "\n",
      "    accuracy                           0.65       233\n",
      "   macro avg       0.68      0.58      0.60       233\n",
      "weighted avg       0.67      0.65      0.65       233\n",
      "\n"
     ]
    },
    {
     "data": {
      "image/png": "[encoded data removed]",
      "text/plain": [
       "<Figure size 720x720 with 1 Axes>"
      ]
     },
     "metadata": {
      "needs_background": "light"
     },
     "output_type": "display_data"
    }
   ],
   "source": [
    "# import seaborn as sns\n",
    "import matplotlib.pyplot as plt\n",
    "\n",
    "claf=svm.LinearSVC(multi_class=\"ovr\")\n",
    "claf.fit(xtrain_tfidf,train_y)\n",
    "plot_cm(xvalid_tfidf, valid_y, claf, 'Training Word Level - TfidfVectorizer on SVM')"
   ]
  },
  {
   "cell_type": "code",
   "execution_count": 28,
   "metadata": {},
   "outputs": [],
   "source": [
    "def pred(lyrics):\n",
    "    wt=word_tokenize(lyrics)\n",
    "    tag_map = defaultdict(lambda : wn.NOUN)\n",
    "    tag_map['J'] = wn.ADJ\n",
    "    tag_map['V'] = wn.VERB\n",
    "    tag_map['R'] = wn.ADV\n",
    "    Final_words = []\n",
    "    word_Lemmatized = WordNetLemmatizer()\n",
    "    for word, tag in pos_tag(wt):\n",
    "        if word not in stopwords.words('english') and word.isalpha():\n",
    "            word_Final = word_Lemmatized.lemmatize(word,tag_map[tag[0]])\n",
    "            Final_words.append(word_Final)\n",
    "    result = str(Final_words)\n",
    "    df9=pd.DataFrame(columns=[\"lyrics\"])\n",
    "    df9=df9.append({'lyrics':result},ignore_index=True)\n",
    "#     xvalid_count =  count_vect.transform(result)\n",
    "#     res = Encoder.fit_transform(result)\n",
    "    testx=df9['lyrics']\n",
    "#     print(testx.shape)\n",
    "    xvalid_tfidf =  tfidf_vect.transform(testx)\n",
    "    y=claf.predict(xvalid_tfidf)\n",
    "    print(\"Tag: \",end='')\n",
    "    if y==0:\n",
    "        print(\"Happy\")\n",
    "    elif(y==1):\n",
    "        print(\"Sad\")\n",
    "    elif(y==2):\n",
    "        print(\"Angry\")\n",
    "    elif(y==3):\n",
    "        print(\"Relaxed\")\n",
    "    \n",
    "    "
   ]
  },
  {
   "cell_type": "code",
   "execution_count": 29,
   "metadata": {},
   "outputs": [],
   "source": [
    "from googletrans import Translator\n",
    "def pred1(lyrics):\n",
    "    translator = Translator()\n",
    "    l1=translator.translate(lyrics)\n",
    "    #print(l1)\n",
    "    lyrics=l1.text\n",
    "    wt=word_tokenize(lyrics)\n",
    "    tag_map = defaultdict(lambda : wn.NOUN)\n",
    "    tag_map['J'] = wn.ADJ\n",
    "    tag_map['V'] = wn.VERB\n",
    "    tag_map['R'] = wn.ADV\n",
    "    Final_words = []\n",
    "    word_Lemmatized = WordNetLemmatizer()\n",
    "    for word, tag in pos_tag(wt):\n",
    "        if word not in stopwords.words('english') and word.isalpha():\n",
    "            word_Final = word_Lemmatized.lemmatize(word,tag_map[tag[0]])\n",
    "            Final_words.append(word_Final)\n",
    "    result = str(Final_words)\n",
    "    df9=pd.DataFrame(columns=[\"lyrics\"])\n",
    "    df9=df9.append({'lyrics':result},ignore_index=True)\n",
    "#     xvalid_count =  count_vect.transform(result)\n",
    "#     res = Encoder.fit_transform(result)\n",
    "    testx=df9['lyrics']\n",
    "#     print(testx.shape)\n",
    "    xvalid_tfidf =  tfidf_vect.transform(testx)\n",
    "    y=claf.predict(xvalid_tfidf)\n",
    "    print(\"Tag: \",end='')\n",
    "    if y==0:\n",
    "        print(\"Happy\")\n",
    "    elif(y==1):\n",
    "        print(\"Sad\")\n",
    "    elif(y==2):\n",
    "        print(\"Angry\")\n",
    "    elif(y==3):\n",
    "        print(\"Relaxed\")"
   ]
  },
  {
   "cell_type": "markdown",
   "metadata": {},
   "source": [
    "#### Ilahi song by Arijit Singh"
   ]
  },
  {
   "cell_type": "code",
   "execution_count": 37,
   "metadata": {},
   "outputs": [
    {
     "name": "stdout",
     "output_type": "stream",
     "text": [
      "Tag: Happy\n"
     ]
    }
   ],
   "source": [
    "pred1(\"Shaamein malang see\\nRaatein surang see\\nBaaghi udaan pe hi naa jaane kyun\\nIlahi mera jee aaye aaye\\nIlaahi mera jee aaye aaye\\n DaDa dang dang dung dung dang...\\nKal pe sawaal hai\\njeena filhaal hai\\nKhaanaabadoshiyon pe hi jaane kyoon\\nIlahi meraa jee aaye aaye\\nIlaahi mera jee aaye aaye\\nMeraa falsafaa kandhe pe mera bastaa\\nChalaa main jahaan le chalaa mujhe rastaa\\nBoondon pe nahin\\nBoondon ke samandar pe wo-o-wo-o...\\nIlahi mera jee aaye aaye\\nIlahi mera jee aaye aaye..\\nShaamein malang si\\nRaatein surang si\\nBaaghi udaan pe hi na jaane kyun\\nIlahi mera jee aaye aaye\\nIlahi mera jee aaye aaye\\nIlahii.. Ilahi.. Ilahi...\")"
   ]
  },
  {
   "cell_type": "code",
   "execution_count": 38,
   "metadata": {},
   "outputs": [
    {
     "name": "stdout",
     "output_type": "stream",
     "text": [
      "Tag: Happy\n"
     ]
    }
   ],
   "source": [
    "pred(\"Evenings, as if they're mad,\\nnights like some tunnel..\\nI don't know why on rebel flights only,\\nO God, my heart comes..\\nO God, my heart is interested..\\nThere is a question about tomorrow,\\n[as in, no one knows what happens tomorrow]\\nLiving life is now.\\nI don't know why in nomadic ways only\\nI find my heart interested, O Lord,\\nmy heart is interested..\\nMy philosophy is - my bag is on my shoulders.\\nI go wherever the path takes me..\\nNot on the drops,\\nBut the sea of drops itself..\\nO God, O God.. O God..\")"
   ]
  },
  {
   "cell_type": "markdown",
   "metadata": {},
   "source": [
    "#### Tera Hone Laga Hoon song by Atif Aslam"
   ]
  },
  {
   "cell_type": "code",
   "execution_count": 39,
   "metadata": {},
   "outputs": [
    {
     "name": "stdout",
     "output_type": "stream",
     "text": [
      "Tag: Happy\n"
     ]
    }
   ],
   "source": [
    "pred(\"I’m becoming yours,\\nGetting lost in my thoughts,\\nSince I met you...\\nShould I touch you with my sight,\\nBecause my arms yearn for you,\\nMy hear has called out,\\nSo come on now...\\nLook, the dewdrops fall as rain,\\nEven the weather drops a hint,\\nSo come on now...\\nFemale:\\nArm in arm,\\nlike an embrace,\\nI admit, and I agree,\\nI’m in love with you. Atif:\\nI’m becoming yours,\\nGetting lost in my thoughts,\\nSince I met you...\")"
   ]
  },
  {
   "cell_type": "code",
   "execution_count": 40,
   "metadata": {},
   "outputs": [
    {
     "name": "stdout",
     "output_type": "stream",
     "text": [
      "Tag: Happy\n"
     ]
    }
   ],
   "source": [
    "pred1(\"Bahon mein dale bahein bahein\\nBahon ka jaise haar hua\\nHaan maana main ne maana maana\\nHua mujhe bhi pyaar hua \\nTera hone laga hoon\\nKhone Laga hoon\\nJab se mila hoon\\nTera hone laga hoon\\nKhone Laga hoon\\nJab se mila hoon\")"
   ]
  },
  {
   "cell_type": "code",
   "execution_count": 41,
   "metadata": {},
   "outputs": [
    {
     "name": "stdout",
     "output_type": "stream",
     "text": [
      "Tag: Sad\n"
     ]
    }
   ],
   "source": [
    "pred(\"All the faces are stony, even the hearts are made of stone\\nThen why do I remain lonely, and roam the streets like a destitute \\nYou shall not attain anything here, my heart\\nIf a dream breaksin a single moment\\nThe world seems lonely\\nThe world seems lonely\\nWhen no loved one remains\\nThe world seems lonely\\nThe world seems lonely \\nWhy does this happen\\nWhen this heart cries out\\nEven the wind seems as if it is crying? \\nThe world seems lonely\\nIf a dream breaks in a single moment\\nThe world seems lonely\\nThe world seems lonely\\nWhen no loved one remains\\nThe world seems lonely\\nThe world seems lonely\\nSeems lonely\")"
   ]
  },
  {
   "cell_type": "code",
   "execution_count": 42,
   "metadata": {},
   "outputs": [
    {
     "name": "stdout",
     "output_type": "stream",
     "text": [
      "Tag: Happy\n"
     ]
    }
   ],
   "source": [
    "pred1(\"maine roya tujhe dhund Sisak Sisak Ke Hawaayein \\nJag Soona Laage \\nChhan Se Jo Toote Koi \")"
   ]
  },
  {
   "cell_type": "markdown",
   "metadata": {},
   "source": [
    "#### Maine Roya song by Tanveer Evan"
   ]
  },
  {
   "cell_type": "code",
   "execution_count": 43,
   "metadata": {},
   "outputs": [
    {
     "name": "stdout",
     "output_type": "stream",
     "text": [
      "Tag: Sad\n"
     ]
    }
   ],
   "source": [
    "pred(\"I cried: I cried you in the mist of mist, I didn't get you to sleep in these nights. I've never thought of rotha in your memories. I never thought you just cried.\")"
   ]
  },
  {
   "cell_type": "code",
   "execution_count": 44,
   "metadata": {},
   "outputs": [
    {
     "name": "stdout",
     "output_type": "stream",
     "text": [
      "Tag: Sad\n"
     ]
    }
   ],
   "source": [
    "pred1(\"Maine roya tujhe dhund dhunde Royatha main Tu na milaa Gehrisi in raaton mein soyaa naa tha main Rotatha teri yaadon mein woh hi raat\")"
   ]
  },
  {
   "cell_type": "code",
   "execution_count": 45,
   "metadata": {},
   "outputs": [
    {
     "name": "stdout",
     "output_type": "stream",
     "text": [
      "Tag: Sad\n"
     ]
    }
   ],
   "source": [
    "pred1(\"Jo dil mein bhara tune Dekhegi uss zeher ko \\nBhugtegi mere gham ko \\nMeri aah ke kahar ko\\nApni khudgarzi ka ab anzaam dekhegi\")"
   ]
  },
  {
   "cell_type": "code",
   "execution_count": null,
   "metadata": {},
   "outputs": [],
   "source": []
  },
  {
   "cell_type": "code",
   "execution_count": null,
   "metadata": {},
   "outputs": [],
   "source": []
  }
 ],
 "metadata": {
  "kernelspec": {
   "display_name": "Python 3",
   "language": "python",
   "name": "python3"
  },
  "language_info": {
   "codemirror_mode": {
    "name": "ipython",
    "version": 3
   },
   "file_extension": ".py",
   "mimetype": "text/x-python",
   "name": "python",
   "nbconvert_exporter": "python",
   "pygments_lexer": "ipython3",
   "version": "3.8.3"
  }
 },
 "nbformat": 4,
 "nbformat_minor": 2
}
