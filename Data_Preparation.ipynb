{
 "cells": [
  {
   "cell_type": "markdown",
   "metadata": {},
   "source": [
    "## MAJORProject : Music Mood Prediction\n",
    "#### Krishi Agrahari,Rajsi Kesharwani,Nikhil Kamale,Shazia Khan,Kirti Mohitkar\n",
    "\n"
   ]
  },
  {
   "cell_type": "code",
   "execution_count": 1,
   "metadata": {},
   "outputs": [],
   "source": [
    "%matplotlib inline\n",
    "import numpy as np\n",
    "import pandas as pd\n",
    "import matplotlib.pyplot as plt\n",
    "import seaborn as sns\n",
    "import warnings\n",
    "import requests\n",
    "import json\n",
    "warnings.filterwarnings(\"ignore\")"
   ]
  },
  {
   "cell_type": "markdown",
   "metadata": {},
   "source": [
    "## Part 1: Dataset Preparation :\n"
   ]
  },
  {
   "cell_type": "markdown",
   "metadata": {},
   "source": [
    "#### We will use Million Song Data Subset, containing 10000 songs' data as the Dataset for our Mood Prediction Classifier"
   ]
  },
  {
   "cell_type": "code",
   "execution_count": 2,
   "metadata": {},
   "outputs": [],
   "source": [
    "import os, sys\n",
    "dir_tree = 'MillionSongSubset'\n",
    "for dir_path, dir_names, file_names in os.walk(dir_tree):\n",
    "    for file_name in file_names:\n",
    "        try:\n",
    "            os.rename(os.path.join(dir_path, file_name), os.path.join(dir_tree, file_name))\n",
    "        except OSError:\n",
    "            print (\"Could not move %s \" % os.join(dir_path, file_name))"
   ]
  },
  {
   "cell_type": "markdown",
   "metadata": {},
   "source": [
    "#### Create Pandas Dataframe with following Columns :\n",
    "1. File name\n",
    "2. Artist Name\n",
    "3. Song Title\n",
    "4. Lyrics (Empty for Now)"
   ]
  },
  {
   "cell_type": "code",
   "execution_count": 3,
   "metadata": {},
   "outputs": [],
   "source": [
    "def make_artist_table(base):\n",
    "    files = [os.path.join(base,fn) for fn in os.listdir(base) if fn.endswith('.h5')]\n",
    "    data = {'file':[], 'artist':[], 'title':[]}\n",
    "    for f in files:\n",
    "        store = pd.HDFStore(f)\n",
    "        title = store.root.metadata.songs.cols.title[0]\n",
    "        artist = store.root.metadata.songs.cols.artist_name[0]\n",
    "        data['file'].append(os.path.basename(f))\n",
    "        data['title'].append(title.decode(\"utf-8\"))\n",
    "        data['artist'].append(artist.decode(\"utf-8\"))\n",
    "        store.close()\n",
    "    df = pd.DataFrame.from_dict(data, orient='columns')\n",
    "    df = df[['file', 'artist', 'title']]\n",
    "    return df"
   ]
  },
  {
   "cell_type": "code",
   "execution_count": 4,
   "metadata": {},
   "outputs": [
    {
     "data": {
      "text/html": [
       "<div>\n",
       "<style scoped>\n",
       "    .dataframe tbody tr th:only-of-type {\n",
       "        vertical-align: middle;\n",
       "    }\n",
       "\n",
       "    .dataframe tbody tr th {\n",
       "        vertical-align: top;\n",
       "    }\n",
       "\n",
       "    .dataframe thead th {\n",
       "        text-align: right;\n",
       "    }\n",
       "</style>\n",
       "<table border=\"1\" class=\"dataframe\">\n",
       "  <thead>\n",
       "    <tr style=\"text-align: right;\">\n",
       "      <th></th>\n",
       "      <th>file</th>\n",
       "      <th>artist</th>\n",
       "      <th>title</th>\n",
       "      <th>lyrics</th>\n",
       "    </tr>\n",
       "  </thead>\n",
       "  <tbody>\n",
       "    <tr>\n",
       "      <th>9996</th>\n",
       "      <td>TRAZSEY128F424C12B.h5</td>\n",
       "      <td>Ivan Parker</td>\n",
       "      <td>Close To The Well (Live)</td>\n",
       "      <td></td>\n",
       "    </tr>\n",
       "    <tr>\n",
       "      <th>9997</th>\n",
       "      <td>TRASTIS128F92FA998.h5</td>\n",
       "      <td>Eri Esittäjiä</td>\n",
       "      <td>Dawn</td>\n",
       "      <td></td>\n",
       "    </tr>\n",
       "    <tr>\n",
       "      <th>9998</th>\n",
       "      <td>TRAFKDG12903CAB85C.h5</td>\n",
       "      <td>Webb Wilder</td>\n",
       "      <td>Too Cool for Love</td>\n",
       "      <td></td>\n",
       "    </tr>\n",
       "    <tr>\n",
       "      <th>9999</th>\n",
       "      <td>TRATJTH128F92EF33C.h5</td>\n",
       "      <td>The Bureau De Change</td>\n",
       "      <td>Seasick</td>\n",
       "      <td></td>\n",
       "    </tr>\n",
       "    <tr>\n",
       "      <th>10000</th>\n",
       "      <td>TRACCVN128F92DAE3D.h5</td>\n",
       "      <td>String Trio Of New York</td>\n",
       "      <td>Ju Ju</td>\n",
       "      <td></td>\n",
       "    </tr>\n",
       "  </tbody>\n",
       "</table>\n",
       "</div>"
      ],
      "text/plain": [
       "                        file                   artist  \\\n",
       "9996   TRAZSEY128F424C12B.h5              Ivan Parker   \n",
       "9997   TRASTIS128F92FA998.h5            Eri Esittäjiä   \n",
       "9998   TRAFKDG12903CAB85C.h5              Webb Wilder   \n",
       "9999   TRATJTH128F92EF33C.h5     The Bureau De Change   \n",
       "10000  TRACCVN128F92DAE3D.h5  String Trio Of New York   \n",
       "\n",
       "                          title lyrics  \n",
       "9996   Close To The Well (Live)         \n",
       "9997                       Dawn         \n",
       "9998          Too Cool for Love         \n",
       "9999                    Seasick         \n",
       "10000                     Ju Ju         "
      ]
     },
     "execution_count": 4,
     "metadata": {},
     "output_type": "execute_result"
    }
   ],
   "source": [
    "base = 'MillionSongSubset'\n",
    "df = make_artist_table(base)\n",
    "df['lyrics'] = pd.Series('', index=df.index)\n",
    "df.tail()"
   ]
  },
  {
   "cell_type": "code",
   "execution_count": null,
   "metadata": {},
   "outputs": [],
   "source": [
    "df.to_csv('lyrics_ml.csv', index=False,encoding='utf-8')"
   ]
  },
  {
   "cell_type": "code",
   "execution_count": 0,
   "metadata": {
    "colab": {},
    "colab_type": "code",
    "id": "AyKAxytZ-JTe"
   },
   "outputs": [],
   "source": [
    "import pandas as pd\n",
    "df=pd.read_csv(\"lyrics_ml.csv\")"
   ]
  },
  {
   "cell_type": "code",
   "execution_count": 2,
   "metadata": {
    "colab": {
     "base_uri": "https://localhost:8080/",
     "height": 204
    },
    "colab_type": "code",
    "id": "Gmg8jIOF-RvX",
    "outputId": "b959b3bb-e886-49b3-afc1-8313fba40c3c"
   },
   "outputs": [
    {
     "data": {
      "text/html": [
       "<div>\n",
       "<style scoped>\n",
       "    .dataframe tbody tr th:only-of-type {\n",
       "        vertical-align: middle;\n",
       "    }\n",
       "\n",
       "    .dataframe tbody tr th {\n",
       "        vertical-align: top;\n",
       "    }\n",
       "\n",
       "    .dataframe thead th {\n",
       "        text-align: right;\n",
       "    }\n",
       "</style>\n",
       "<table border=\"1\" class=\"dataframe\">\n",
       "  <thead>\n",
       "    <tr style=\"text-align: right;\">\n",
       "      <th></th>\n",
       "      <th>file</th>\n",
       "      <th>artist</th>\n",
       "      <th>title</th>\n",
       "      <th>lyrics</th>\n",
       "    </tr>\n",
       "  </thead>\n",
       "  <tbody>\n",
       "    <tr>\n",
       "      <th>0</th>\n",
       "      <td>TRAWLGG128F42884CA.h5</td>\n",
       "      <td>Usher</td>\n",
       "      <td>Pianolude</td>\n",
       "      <td>NaN</td>\n",
       "    </tr>\n",
       "    <tr>\n",
       "      <th>1</th>\n",
       "      <td>TRAIQDI128F92E8E1F.h5</td>\n",
       "      <td>Seal</td>\n",
       "      <td>Still Love Remains (Album Version)</td>\n",
       "      <td>NaN</td>\n",
       "    </tr>\n",
       "    <tr>\n",
       "      <th>2</th>\n",
       "      <td>TRAHQNV12903CECAB0.h5</td>\n",
       "      <td>Terminal 11 feat. b.b0Nd</td>\n",
       "      <td>In Place Of Love [edit]</td>\n",
       "      <td>NaN</td>\n",
       "    </tr>\n",
       "    <tr>\n",
       "      <th>3</th>\n",
       "      <td>TRAUVAQ128F92DC677.h5</td>\n",
       "      <td>Fake Problems</td>\n",
       "      <td>Tabernacle Song</td>\n",
       "      <td>NaN</td>\n",
       "    </tr>\n",
       "    <tr>\n",
       "      <th>4</th>\n",
       "      <td>TRAOOQN12903CEB763.h5</td>\n",
       "      <td>Dottie Rambo_ The Whites</td>\n",
       "      <td>New Shoes</td>\n",
       "      <td>NaN</td>\n",
       "    </tr>\n",
       "  </tbody>\n",
       "</table>\n",
       "</div>"
      ],
      "text/plain": [
       "                    file                    artist  \\\n",
       "0  TRAWLGG128F42884CA.h5                     Usher   \n",
       "1  TRAIQDI128F92E8E1F.h5                      Seal   \n",
       "2  TRAHQNV12903CECAB0.h5  Terminal 11 feat. b.b0Nd   \n",
       "3  TRAUVAQ128F92DC677.h5             Fake Problems   \n",
       "4  TRAOOQN12903CEB763.h5  Dottie Rambo_ The Whites   \n",
       "\n",
       "                                title  lyrics  \n",
       "0                           Pianolude     NaN  \n",
       "1  Still Love Remains (Album Version)     NaN  \n",
       "2             In Place Of Love [edit]     NaN  \n",
       "3                     Tabernacle Song     NaN  \n",
       "4                           New Shoes     NaN  "
      ]
     },
     "execution_count": 2,
     "metadata": {
      "tags": []
     },
     "output_type": "execute_result"
    }
   ],
   "source": [
    "df.head()"
   ]
  },
  {
   "cell_type": "markdown",
   "metadata": {},
   "source": [
    "### Using the Artist Name and Song Title, We are fetching lyrics for all the songs using PyLyrics package, which uses LyricWikia.com API to get lyrics for songs"
   ]
  },
  {
   "cell_type": "code",
   "execution_count": null,
   "metadata": {},
   "outputs": [],
   "source": [
    "from PyLyrics import *\n",
    "for row_id in df.index:\n",
    "    #print(str(row_id),end=\" \")\n",
    "    try:\n",
    "        lyr = PyLyrics.getLyrics(df.loc[row_id]['artist'],df.loc[row_id]['title'])    \n",
    "        df.loc[row_id,'lyrics'] = lyr\n",
    "    except:\n",
    "        continue"
   ]
  },
  {
   "cell_type": "markdown",
   "metadata": {},
   "source": [
    "### Out of the 10000 songs, we could only fetch 3449 song lyrics from LyricWikia.com API"
   ]
  },
  {
   "cell_type": "code",
   "execution_count": 9,
   "metadata": {
    "colab": {
     "base_uri": "https://localhost:8080/",
     "height": 221
    },
    "colab_type": "code",
    "id": "Sy_nMcL0MDVd",
    "outputId": "c833f5c9-f51f-49ec-9e6d-de87a10bfea7",
    "scrolled": true
   },
   "outputs": [
    {
     "name": "stdout",
     "output_type": "stream",
     "text": [
      "downloaded Lyrics for 10001 songs\n"
     ]
    },
    {
     "data": {
      "text/html": [
       "<div>\n",
       "<style scoped>\n",
       "    .dataframe tbody tr th:only-of-type {\n",
       "        vertical-align: middle;\n",
       "    }\n",
       "\n",
       "    .dataframe tbody tr th {\n",
       "        vertical-align: top;\n",
       "    }\n",
       "\n",
       "    .dataframe thead th {\n",
       "        text-align: right;\n",
       "    }\n",
       "</style>\n",
       "<table border=\"1\" class=\"dataframe\">\n",
       "  <thead>\n",
       "    <tr style=\"text-align: right;\">\n",
       "      <th></th>\n",
       "      <th>file</th>\n",
       "      <th>artist</th>\n",
       "      <th>title</th>\n",
       "      <th>lyrics</th>\n",
       "    </tr>\n",
       "  </thead>\n",
       "  <tbody>\n",
       "    <tr>\n",
       "      <th>0</th>\n",
       "      <td>TRAWLGG128F42884CA.h5</td>\n",
       "      <td>Usher</td>\n",
       "      <td>Pianolude</td>\n",
       "      <td>Can I love you darling,\\nCan I love you darlin...</td>\n",
       "    </tr>\n",
       "    <tr>\n",
       "      <th>1</th>\n",
       "      <td>TRAIQDI128F92E8E1F.h5</td>\n",
       "      <td>Seal</td>\n",
       "      <td>Still Love Remains (Album Version)</td>\n",
       "      <td>How will I stand if you turn out the light\\nTh...</td>\n",
       "    </tr>\n",
       "    <tr>\n",
       "      <th>2</th>\n",
       "      <td>TRAHQNV12903CECAB0.h5</td>\n",
       "      <td>Terminal 11 feat. b.b0Nd</td>\n",
       "      <td>In Place Of Love [edit]</td>\n",
       "      <td>NaN</td>\n",
       "    </tr>\n",
       "    <tr>\n",
       "      <th>3</th>\n",
       "      <td>TRAUVAQ128F92DC677.h5</td>\n",
       "      <td>Fake Problems</td>\n",
       "      <td>Tabernacle Song</td>\n",
       "      <td>We've almost got job security,\\nAt least there...</td>\n",
       "    </tr>\n",
       "    <tr>\n",
       "      <th>4</th>\n",
       "      <td>TRAOOQN12903CEB763.h5</td>\n",
       "      <td>Dottie Rambo_ The Whites</td>\n",
       "      <td>New Shoes</td>\n",
       "      <td>NaN</td>\n",
       "    </tr>\n",
       "  </tbody>\n",
       "</table>\n",
       "</div>"
      ],
      "text/plain": [
       "                    file                    artist  \\\n",
       "0  TRAWLGG128F42884CA.h5                     Usher   \n",
       "1  TRAIQDI128F92E8E1F.h5                      Seal   \n",
       "2  TRAHQNV12903CECAB0.h5  Terminal 11 feat. b.b0Nd   \n",
       "3  TRAUVAQ128F92DC677.h5             Fake Problems   \n",
       "4  TRAOOQN12903CEB763.h5  Dottie Rambo_ The Whites   \n",
       "\n",
       "                                title  \\\n",
       "0                           Pianolude   \n",
       "1  Still Love Remains (Album Version)   \n",
       "2             In Place Of Love [edit]   \n",
       "3                     Tabernacle Song   \n",
       "4                           New Shoes   \n",
       "\n",
       "                                              lyrics  \n",
       "0  Can I love you darling,\\nCan I love you darlin...  \n",
       "1  How will I stand if you turn out the light\\nTh...  \n",
       "2                                                NaN  \n",
       "3  We've almost got job security,\\nAt least there...  \n",
       "4                                                NaN  "
      ]
     },
     "execution_count": 9,
     "metadata": {
      "tags": []
     },
     "output_type": "execute_result"
    }
   ],
   "source": [
    "print('downloaded Lyrics for %s songs' %sum(df.lyrics!=))\n",
    "df.head()"
   ]
  },
  {
   "cell_type": "code",
   "execution_count": 0,
   "metadata": {
    "colab": {},
    "colab_type": "code",
    "id": "hovnNvo8P3A1"
   },
   "outputs": [],
   "source": [
    "df1 = df[pd.notnull(df['lyrics'])]\n",
    "df1.head()\n",
    "df1.shape\n",
    "df2=df\n",
    "df=df1"
   ]
  },
  {
   "cell_type": "code",
   "execution_count": 0,
   "metadata": {
    "colab": {},
    "colab_type": "code",
    "id": "8RDs8HEQ-Za-"
   },
   "outputs": [],
   "source": [
    "df.to_csv('df_lyr_backup.csv')"
   ]
  },
  {
   "cell_type": "code",
   "execution_count": 19,
   "metadata": {
    "colab": {
     "base_uri": "https://localhost:8080/",
     "height": 34
    },
    "colab_type": "code",
    "id": "rsQabQdMLh0W",
    "outputId": "caba3757-6f6d-4ea2-b446-65932507f529"
   },
   "outputs": [
    {
     "data": {
      "text/plain": [
       "(3449, 4)"
      ]
     },
     "execution_count": 19,
     "metadata": {
      "tags": []
     },
     "output_type": "execute_result"
    }
   ],
   "source": [
    "df = df[df.lyrics!='']\n",
    "df.shape"
   ]
  },
  {
   "cell_type": "markdown",
   "metadata": {},
   "source": [
    "### We are creating our model using english lyrics. So all the song lyrics containing any other language are removed from the Dataset. Total 495 songs are removed."
   ]
  },
  {
   "cell_type": "code",
   "execution_count": 0,
   "metadata": {
    "colab": {},
    "colab_type": "code",
    "id": "rEqEIHYYLh3F"
   },
   "outputs": [],
   "source": [
    "import nltk\n",
    "\n",
    "def eng_ratio(text):\n",
    "    english_vocab = set(w.lower() for w in nltk.corpus.words.words()) \n",
    "    text_vocab = set(w.lower() for w in text.split() if w.lower().isalpha()) \n",
    "    unusual = text_vocab.difference(english_vocab)\n",
    "    diff = len(unusual)/len(text_vocab)\n",
    "    return diff"
   ]
  },
  {
   "cell_type": "code",
   "execution_count": 22,
   "metadata": {
    "colab": {
     "base_uri": "https://localhost:8080/",
     "height": 68
    },
    "colab_type": "code",
    "id": "ZHaKtpKeRCz4",
    "outputId": "a67371ee-30b8-43ce-9946-48adfa9f4701"
   },
   "outputs": [
    {
     "name": "stdout",
     "output_type": "stream",
     "text": [
      "[nltk_data] Downloading package words to /root/nltk_data...\n",
      "[nltk_data]   Unzipping corpora/words.zip.\n"
     ]
    },
    {
     "data": {
      "text/plain": [
       "True"
      ]
     },
     "execution_count": 22,
     "metadata": {
      "tags": []
     },
     "output_type": "execute_result"
    }
   ],
   "source": [
    "nltk.download('words')"
   ]
  },
  {
   "cell_type": "code",
   "execution_count": 23,
   "metadata": {
    "colab": {
     "base_uri": "https://localhost:8080/",
     "height": 51
    },
    "colab_type": "code",
    "id": "tv2ZI8AELh6d",
    "outputId": "32338cea-48c2-4bcd-d64e-476c676c974d"
   },
   "outputs": [
    {
     "name": "stdout",
     "output_type": "stream",
     "text": [
      "495 have been removed.\n",
      "2954 songs remain in the dataset.\n"
     ]
    }
   ],
   "source": [
    "before = df.shape[0]\n",
    "for row_id in df.index:\n",
    "    text = df.loc[row_id]['lyrics']\n",
    "    diff = eng_ratio(text)\n",
    "    if diff >= 0.5:\n",
    "        df = df[df.index != row_id]\n",
    "after = df.shape[0]\n",
    "rem = before - after\n",
    "print('%s have been removed.' %rem)\n",
    "print('%s songs remain in the dataset.' %after)"
   ]
  },
  {
   "cell_type": "markdown",
   "metadata": {},
   "source": [
    "### Now we will use Last.FM API to extract Tags for the remaining ~3000 songs in our dataset. Tags can be based on Genre, Mood, Artist Type etc. "
   ]
  },
  {
   "cell_type": "code",
   "execution_count": 0,
   "metadata": {
    "colab": {},
    "colab_type": "code",
    "id": "aQfMEO-yLhxl"
   },
   "outputs": [],
   "source": [
    "def getSongTags(artist,track):\n",
    "    url = \"http://ws.audioscrobbler.com/2.0/?method=track.getTopTags&api_key=0f6916aff634cb3e768baa9d5ee89341&artist=\"+artist+\"&track=\"+track+\"&format=json\"\n",
    "    results = requests.get(url).json()\n",
    "    tagList = []\n",
    "    if 'toptags' in results:\n",
    "        toptags = results['toptags']\n",
    "        if 'tag' in toptags:\n",
    "            taglistss = toptags['tag']           \n",
    "            for tagItem in taglistss:\n",
    "                tagList.append(tagItem['name']) \n",
    "    return tagList"
   ]
  },
  {
   "cell_type": "code",
   "execution_count": 30,
   "metadata": {
    "colab": {
     "base_uri": "https://localhost:8080/",
     "height": 34
    },
    "colab_type": "code",
    "id": "1ROlaS2rLrAQ",
    "outputId": "68d5d9c2-77ab-4ddc-982a-6551173a43f0"
   },
   "outputs": [
    {
     "name": "stderr",
     "output_type": "stream",
     "text": [
      "0% [############################# ] 100% | ETA: 00:00:13"
     ]
    }
   ],
   "source": [
    "import pyprind\n",
    "df['tags'] = ''\n",
    "pbar = pyprind.ProgBar(df.shape[0])\n",
    "for row_id in df.index:\n",
    "    #print(row_id,end=\" \")\n",
    "    try:\n",
    "      tags = getSongTags(df.loc[row_id]['artist'],df.loc[row_id]['title'])    \n",
    "      df.loc[row_id,'tags'] = tags\n",
    "      pbar.update()\n",
    "    except:\n",
    "      continue"
   ]
  },
  {
   "cell_type": "code",
   "execution_count": 0,
   "metadata": {
    "colab": {},
    "colab_type": "code",
    "id": "f8v083s8W0nX"
   },
   "outputs": [],
   "source": [
    "df.head()\n",
    "df.to_csv('df_tag_backup.csv')"
   ]
  },
  {
   "cell_type": "code",
   "execution_count": 0,
   "metadata": {
    "colab": {},
    "colab_type": "code",
    "id": "odhbOGzSLrLR"
   },
   "outputs": [],
   "source": [
    "for row_id in df.index:     \n",
    "    if len(df.loc[row_id,'tags'])==0:\n",
    "        df = df.drop(row_id)"
   ]
  },
  {
   "cell_type": "markdown",
   "metadata": {},
   "source": [
    "### Out of 3000, We extracted tags from Last.FM API for 2289 songs. Rest of them are removed"
   ]
  },
  {
   "cell_type": "code",
   "execution_count": 34,
   "metadata": {
    "colab": {
     "base_uri": "https://localhost:8080/",
     "height": 34
    },
    "colab_type": "code",
    "id": "nwA4dNhSLq95",
    "outputId": "2e819a6f-00a8-4d80-ca12-170bc8495e88"
   },
   "outputs": [
    {
     "data": {
      "text/plain": [
       "(2289, 5)"
      ]
     },
     "execution_count": 34,
     "metadata": {
      "tags": []
     },
     "output_type": "execute_result"
    }
   ],
   "source": [
    "df.shape"
   ]
  },
  {
   "cell_type": "code",
   "execution_count": 36,
   "metadata": {
    "colab": {
     "base_uri": "https://localhost:8080/",
     "height": 289
    },
    "colab_type": "code",
    "id": "tYG1n1-TXHeD",
    "outputId": "f2e87810-df00-48e7-c677-8d044843d3cc"
   },
   "outputs": [
    {
     "data": {
      "text/html": [
       "<div>\n",
       "<style scoped>\n",
       "    .dataframe tbody tr th:only-of-type {\n",
       "        vertical-align: middle;\n",
       "    }\n",
       "\n",
       "    .dataframe tbody tr th {\n",
       "        vertical-align: top;\n",
       "    }\n",
       "\n",
       "    .dataframe thead th {\n",
       "        text-align: right;\n",
       "    }\n",
       "</style>\n",
       "<table border=\"1\" class=\"dataframe\">\n",
       "  <thead>\n",
       "    <tr style=\"text-align: right;\">\n",
       "      <th></th>\n",
       "      <th>file</th>\n",
       "      <th>artist</th>\n",
       "      <th>title</th>\n",
       "      <th>lyrics</th>\n",
       "      <th>tags</th>\n",
       "    </tr>\n",
       "  </thead>\n",
       "  <tbody>\n",
       "    <tr>\n",
       "      <th>0</th>\n",
       "      <td>TRAWLGG128F42884CA.h5</td>\n",
       "      <td>Usher</td>\n",
       "      <td>Pianolude</td>\n",
       "      <td>Can I love you darling,\\nCan I love you darlin...</td>\n",
       "      <td>[p, soul, rnb, Usher, r'n'b]</td>\n",
       "    </tr>\n",
       "    <tr>\n",
       "      <th>17</th>\n",
       "      <td>TRBDLRT128F4296B2F.h5</td>\n",
       "      <td>Alias</td>\n",
       "      <td>Dying To Stay</td>\n",
       "      <td>Initial thought: turn it up a notch from the r...</td>\n",
       "      <td>[trip-hop, rap, test, Hip-Hop, experimental, u...</td>\n",
       "    </tr>\n",
       "    <tr>\n",
       "      <th>23</th>\n",
       "      <td>TRBEKNV128F9326A8A.h5</td>\n",
       "      <td>Killswitch Engage</td>\n",
       "      <td>Never Again (Album Version)</td>\n",
       "      <td>I want you to suffer as I have suffered\\nThis ...</td>\n",
       "      <td>[metalcore]</td>\n",
       "    </tr>\n",
       "    <tr>\n",
       "      <th>24</th>\n",
       "      <td>TRAUTCA128F429B624.h5</td>\n",
       "      <td>Rickie Lee Jones</td>\n",
       "      <td>Danny's All-Star Joint (LP Version)</td>\n",
       "      <td>Downstairs at danny's all-star joint\\nThey got...</td>\n",
       "      <td>[hopuke42, pivudo45, singer-songwriter, classi...</td>\n",
       "    </tr>\n",
       "    <tr>\n",
       "      <th>26</th>\n",
       "      <td>TRAIVNL128F422CFE2.h5</td>\n",
       "      <td>Buzzcocks</td>\n",
       "      <td>Get On Our Own</td>\n",
       "      <td>Honey, I saw you yesterday\\nOn my way home\\nBa...</td>\n",
       "      <td>[punk, punk rock, british i like, 70s, british...</td>\n",
       "    </tr>\n",
       "  </tbody>\n",
       "</table>\n",
       "</div>"
      ],
      "text/plain": [
       "                     file             artist  \\\n",
       "0   TRAWLGG128F42884CA.h5              Usher   \n",
       "17  TRBDLRT128F4296B2F.h5              Alias   \n",
       "23  TRBEKNV128F9326A8A.h5  Killswitch Engage   \n",
       "24  TRAUTCA128F429B624.h5   Rickie Lee Jones   \n",
       "26  TRAIVNL128F422CFE2.h5          Buzzcocks   \n",
       "\n",
       "                                  title  \\\n",
       "0                             Pianolude   \n",
       "17                        Dying To Stay   \n",
       "23          Never Again (Album Version)   \n",
       "24  Danny's All-Star Joint (LP Version)   \n",
       "26                       Get On Our Own   \n",
       "\n",
       "                                               lyrics  \\\n",
       "0   Can I love you darling,\\nCan I love you darlin...   \n",
       "17  Initial thought: turn it up a notch from the r...   \n",
       "23  I want you to suffer as I have suffered\\nThis ...   \n",
       "24  Downstairs at danny's all-star joint\\nThey got...   \n",
       "26  Honey, I saw you yesterday\\nOn my way home\\nBa...   \n",
       "\n",
       "                                                 tags  \n",
       "0                        [p, soul, rnb, Usher, r'n'b]  \n",
       "17  [trip-hop, rap, test, Hip-Hop, experimental, u...  \n",
       "23                                        [metalcore]  \n",
       "24  [hopuke42, pivudo45, singer-songwriter, classi...  \n",
       "26  [punk, punk rock, british i like, 70s, british...  "
      ]
     },
     "execution_count": 36,
     "metadata": {
      "tags": []
     },
     "output_type": "execute_result"
    }
   ],
   "source": [
    "df.head()"
   ]
  },
  {
   "cell_type": "code",
   "execution_count": 0,
   "metadata": {
    "colab": {},
    "colab_type": "code",
    "id": "zeOUrDUTXJjf"
   },
   "outputs": [],
   "source": [
    "df.to_csv('df_tag_backup.csv')"
   ]
  },
  {
   "cell_type": "markdown",
   "metadata": {},
   "source": [
    "### In the paper \"Lyric Text Mining in Music Mood Classification\" - Hu et.al, tags are being grouped into 18 categories according to different moods. We have taken 10 groups for our Mood Categories - Happy, Sad, Angry, Relax. "
   ]
  },
  {
   "cell_type": "code",
   "execution_count": 0,
   "metadata": {
    "colab": {},
    "colab_type": "code",
    "id": "R3s3OAG5XPEs"
   },
   "outputs": [],
   "source": [
    "\n",
    "relaxTags=\"calm, comfort, quiet, serene, mellow, chill out, calm down, calming, chillout, comforting, content, cool down, mellow music,  mellow rock, peace of mind, quietness, relaxation, serenity, solace, soothe, soothing, still, tranquil, tranquility, tranquility,brooding, contemplative, meditative, reflective, broody, pensive, pondering, wistful,desire, hope, hopeful\"\n",
    "relaxTags = relaxTags.replace(\" \",\"\").split(\",\")\n",
    "\n",
    "happyTags = \"cheerful, cheer up, festive, jolly, jovial, merry, cheer, cheering,\\\n",
    "cheery, get happy, rejoice, songs that are cheerful, sunny,happy, happiness, happy songs, happy music, glad, mood: happy,\\\n",
    "upbeat, gleeful, high spirits, zest, enthusiastic, buoyancy, elation, mood: upbeat,excitement, exciting, exhilarating, thrill,\\\n",
    "ardor, stimulating, thrilling, titillating\"\n",
    "happyTags = happyTags.replace(\" \",\"\").split(\",\")\n",
    "\n",
    "sadTags = \"sad, sadness, unhappy, melancholic, melancholy, feeling sad, mood: sad - slightly, sad song,\\\n",
    "depressed, blue, dark, depressive, dreary, gloom, darkness, depress, depression, depressing, gloomy,\\\n",
    "anger, angry, choleric, fury, outraged, rage, angry music,grief, heartbreak, mournful, sorrow, sorry, doleful, heartache, heartbreaking, heartsick, lachrymose, mourning,\\\n",
    "plaintive, regret, sorrowful\"\n",
    "sadTags = sadTags.replace(\" \",\"\").split(\",\")\n",
    "\n",
    "angryTags=\"anger, angry, choleric, fury, outraged, rage, angry music,aggression, aggressive,\\\n",
    "angst, anxiety, anxious, jumpy, nervous, angsty,pessimism, cynical, pessimistic, weltschmerz, cynical/sarcastic\"\n",
    "angryTags = angryTags.replace(\" \",\"\").split(\",\")"
   ]
  },
  {
   "cell_type": "markdown",
   "metadata": {},
   "source": [
    "### By correlating the tags that we found from Last.FM and the tag groups generated by us, we are creating the Class Label for Moods in our Dataset. The Class Labels are - \n",
    "1. Happy - 1\n",
    "2. Sad - 2\n",
    "3. Angry - 3\n",
    "4. Relaxed -4"
   ]
  },
  {
   "cell_type": "code",
   "execution_count": 41,
   "metadata": {
    "colab": {
     "base_uri": "https://localhost:8080/",
     "height": 51
    },
    "colab_type": "code",
    "id": "jYxcw3VdZC0b",
    "outputId": "63484ee5-886a-4af8-98cd-e9f2f4623e06"
   },
   "outputs": [
    {
     "name": "stderr",
     "output_type": "stream",
     "text": [
      "0% [##############################] 100% | ETA: 00:00:00\n",
      "Total time elapsed: 00:00:02\n"
     ]
    }
   ],
   "source": [
    "import numpy as np\n",
    "df['mood']=\"\"\n",
    "pbar = pyprind.ProgBar(df.shape[0])\n",
    "for row_id in df.index:\n",
    "    tags = df.loc[row_id,'tags']    \n",
    "    sad_tags = np.intersect1d(tags,sadTags) \n",
    "    happy_tags = np.intersect1d(tags,happyTags)\n",
    "    relax_tags = np.intersect1d(tags,relaxTags) \n",
    "    angry_tags = np.intersect1d(tags,angryTags)\n",
    "    mmax=max(len(sad_tags),len(happy_tags),len(relax_tags),len(angry_tags))\n",
    "    if len(sad_tags)>0 or len(happy_tags)>0 or len(angry_tags)>0 or len(relax_tags)>0:# having mood tag\n",
    "        if len(happy_tags)==mmax:\n",
    "          df.loc[row_id,'mood'] = \"1\"\n",
    "        elif len(sad_tags)==mmax:\n",
    "          df.loc[row_id,'mood'] = \"2\"\n",
    "        elif len(angry_tags)==mmax:\n",
    "          df.loc[row_id,'mood'] = \"3\"\n",
    "        elif len(relax_tags)==mmax:\n",
    "          df.loc[row_id,'mood'] = \"4\"\n",
    "    else:\n",
    "        df = df.drop(row_id)# remove songs that does not have tag\n",
    "    pbar.update()"
   ]
  },
  {
   "cell_type": "markdown",
   "metadata": {},
   "source": [
    "### Out of 2300 songs, tags are correlated for only 605 songs. Our new dataset carries only these songs."
   ]
  },
  {
   "cell_type": "code",
   "execution_count": 42,
   "metadata": {
    "colab": {
     "base_uri": "https://localhost:8080/",
     "height": 34
    },
    "colab_type": "code",
    "id": "TR4q5L8Zbbb5",
    "outputId": "73b795fa-0516-4618-cde1-65ae4a6d7acd"
   },
   "outputs": [
    {
     "data": {
      "text/plain": [
       "(605, 6)"
      ]
     },
     "execution_count": 42,
     "metadata": {
      "tags": []
     },
     "output_type": "execute_result"
    }
   ],
   "source": [
    "df.shape"
   ]
  },
  {
   "cell_type": "code",
   "execution_count": 43,
   "metadata": {
    "colab": {
     "base_uri": "https://localhost:8080/",
     "height": 289
    },
    "colab_type": "code",
    "id": "xUlGlNN5blhV",
    "outputId": "4548867c-811d-46f9-b642-7421fcf78c14"
   },
   "outputs": [
    {
     "data": {
      "text/html": [
       "<div>\n",
       "<style scoped>\n",
       "    .dataframe tbody tr th:only-of-type {\n",
       "        vertical-align: middle;\n",
       "    }\n",
       "\n",
       "    .dataframe tbody tr th {\n",
       "        vertical-align: top;\n",
       "    }\n",
       "\n",
       "    .dataframe thead th {\n",
       "        text-align: right;\n",
       "    }\n",
       "</style>\n",
       "<table border=\"1\" class=\"dataframe\">\n",
       "  <thead>\n",
       "    <tr style=\"text-align: right;\">\n",
       "      <th></th>\n",
       "      <th>file</th>\n",
       "      <th>artist</th>\n",
       "      <th>title</th>\n",
       "      <th>lyrics</th>\n",
       "      <th>tags</th>\n",
       "      <th>mood</th>\n",
       "    </tr>\n",
       "  </thead>\n",
       "  <tbody>\n",
       "    <tr>\n",
       "      <th>41</th>\n",
       "      <td>TRABNEX128F92C9DEA.h5</td>\n",
       "      <td>Kings Of Leon</td>\n",
       "      <td>Knocked Up</td>\n",
       "      <td>I don't care what nobody says, we're gonna hav...</td>\n",
       "      <td>[rock, indie rock, indie, Southern Rock, kings...</td>\n",
       "      <td>2</td>\n",
       "    </tr>\n",
       "    <tr>\n",
       "      <th>77</th>\n",
       "      <td>TRAESWB128F149CB2C.h5</td>\n",
       "      <td>Dexys Midnight Runners</td>\n",
       "      <td>Until I Believe In My Soul</td>\n",
       "      <td>I'll need tonight to sit and think about this\\...</td>\n",
       "      <td>[80s, soul, british, Blue-Eyed Soul, new wave,...</td>\n",
       "      <td>3</td>\n",
       "    </tr>\n",
       "    <tr>\n",
       "      <th>86</th>\n",
       "      <td>TRAKQXJ128F147A028.h5</td>\n",
       "      <td>AFI</td>\n",
       "      <td>Summer Shudder</td>\n",
       "      <td>Listen when I say, when I say it's real\\nReal ...</td>\n",
       "      <td>[punk rock, rock, punk, emo, AFI, alternative,...</td>\n",
       "      <td>2</td>\n",
       "    </tr>\n",
       "    <tr>\n",
       "      <th>125</th>\n",
       "      <td>TRAYYIN12903CAD8C6.h5</td>\n",
       "      <td>K-OS</td>\n",
       "      <td>Man I Used To Be</td>\n",
       "      <td>I tried it, I couldn't find it\\nNow I just wan...</td>\n",
       "      <td>[Hip-Hop, Canadian, hip hop, k-os, rap, pop, h...</td>\n",
       "      <td>2</td>\n",
       "    </tr>\n",
       "    <tr>\n",
       "      <th>126</th>\n",
       "      <td>TRAKHYP128E0792F07.h5</td>\n",
       "      <td>Patty Griffin</td>\n",
       "      <td>Moses</td>\n",
       "      <td>Diamonds, roses I need Moses\\nTo cross this se...</td>\n",
       "      <td>[female vocalists, folk, acoustic, Alt-country...</td>\n",
       "      <td>2</td>\n",
       "    </tr>\n",
       "  </tbody>\n",
       "</table>\n",
       "</div>"
      ],
      "text/plain": [
       "                      file                  artist  \\\n",
       "41   TRABNEX128F92C9DEA.h5           Kings Of Leon   \n",
       "77   TRAESWB128F149CB2C.h5  Dexys Midnight Runners   \n",
       "86   TRAKQXJ128F147A028.h5                     AFI   \n",
       "125  TRAYYIN12903CAD8C6.h5                    K-OS   \n",
       "126  TRAKHYP128E0792F07.h5           Patty Griffin   \n",
       "\n",
       "                          title  \\\n",
       "41                   Knocked Up   \n",
       "77   Until I Believe In My Soul   \n",
       "86               Summer Shudder   \n",
       "125            Man I Used To Be   \n",
       "126                       Moses   \n",
       "\n",
       "                                                lyrics  \\\n",
       "41   I don't care what nobody says, we're gonna hav...   \n",
       "77   I'll need tonight to sit and think about this\\...   \n",
       "86   Listen when I say, when I say it's real\\nReal ...   \n",
       "125  I tried it, I couldn't find it\\nNow I just wan...   \n",
       "126  Diamonds, roses I need Moses\\nTo cross this se...   \n",
       "\n",
       "                                                  tags mood  \n",
       "41   [rock, indie rock, indie, Southern Rock, kings...    2  \n",
       "77   [80s, soul, british, Blue-Eyed Soul, new wave,...    3  \n",
       "86   [punk rock, rock, punk, emo, AFI, alternative,...    2  \n",
       "125  [Hip-Hop, Canadian, hip hop, k-os, rap, pop, h...    2  \n",
       "126  [female vocalists, folk, acoustic, Alt-country...    2  "
      ]
     },
     "execution_count": 43,
     "metadata": {
      "tags": []
     },
     "output_type": "execute_result"
    }
   ],
   "source": [
    "df.head()"
   ]
  },
  {
   "cell_type": "code",
   "execution_count": 0,
   "metadata": {
    "colab": {},
    "colab_type": "code",
    "id": "SsR8_Aa6boi6"
   },
   "outputs": [],
   "source": [
    "df.to_csv('df_mood_backup.csv')"
   ]
  },
  {
   "cell_type": "markdown",
   "metadata": {},
   "source": [
    "## From the paper \"Multimodal Music Mood Classification by Fusion of Audio and Lyrics\" - Hao et.al , we get to know about 777 other songs, already categorized into Happy, Sad, Angry, Relaxed. We append this dataset with our previous dataset."
   ]
  },
  {
   "cell_type": "code",
   "execution_count": 163,
   "metadata": {},
   "outputs": [],
   "source": [
    "import os\n",
    "import re\n",
    "import itertools\n",
    "import pickle\n",
    "from collections import Counter,defaultdict\n",
    "try:\n",
    "\timport pandas as pd\n",
    "\timport numpy as np\n",
    "\tfrom nltk.corpus import stopwords\n",
    "\tfrom nltk.stem import PorterStemmer\n",
    "\timport gensim\n",
    "\tfrom gensim.models import Word2Vec\n",
    "\tfrom nltk.stem import WordNetLemmatizer\n",
    "\tfrom keras.utils import np_utils\n",
    "except:\n",
    "\tprint(\"require modules: keras,gensim,nltk.stem,nltk.corpus,nltk.stem, please install it.\")\n",
    "\texit()"
   ]
  },
  {
   "cell_type": "code",
   "execution_count": 164,
   "metadata": {},
   "outputs": [],
   "source": [
    "reg1 = re.compile(\"\\.txt$\")\n",
    "reg2 = re.compile(\"([0-9]+)\\.txt\")\n",
    "reg3 = re.compile(\".*_([0-9])\\.txt\")\n",
    "reg4 = re.compile(\"\\[.+\\]\")\n",
    "reg5 = re.compile(\"info\\.txt\")\n",
    "lyrics_dic = {}\n",
    "for i in os.listdir():\n",
    "    if os.path.isdir(i):\n",
    "        for path,sub,items in os.walk(i):\n",
    "            if any([reg1.findall(item) for item in items]):\n",
    "                for item in items:\n",
    "                    if reg5.findall(item):\n",
    "                        continue\n",
    "                    if reg3.findall(item):\n",
    "                        num = [\"0\"+reg3.findall(item)[0]]\n",
    "                        name = \"_\".join(path.split(\"/\") + num)\n",
    "                    else:\n",
    "                        name = \"_\".join(path.split(\"/\") + reg2.findall(item))\n",
    "                    with open(os.path.join(path,item),\"r\",encoding=\"utf8\", errors='ignore') as f:\n",
    "                        lyrics = \"\".join(f.readlines())\n",
    "                        lyrics = reg4.subn(\"\",lyrics)[0]\n",
    "                        lyrics_dic[name] = lyrics"
   ]
  },
  {
   "cell_type": "code",
   "execution_count": 165,
   "metadata": {},
   "outputs": [
    {
     "data": {
      "text/plain": [
       "777"
      ]
     },
     "execution_count": 165,
     "metadata": {},
     "output_type": "execute_result"
    }
   ],
   "source": [
    "len(lyrics_dic.keys())"
   ]
  },
  {
   "cell_type": "markdown",
   "metadata": {},
   "source": [
    "### Creating the dataframe with lyrics and mood"
   ]
  },
  {
   "cell_type": "code",
   "execution_count": 166,
   "metadata": {},
   "outputs": [],
   "source": [
    "df=pd.DataFrame(columns=[\"lyrics\",\"mood\"])"
   ]
  },
  {
   "cell_type": "code",
   "execution_count": 167,
   "metadata": {},
   "outputs": [],
   "source": [
    "for key in lyrics_dic.keys():\n",
    "    #print(key)\n",
    "    if \"Happy\" in key:\n",
    "        \n",
    "        df=df.append({\"lyrics\":lyrics_dic[key],\"mood\":\"1\"},ignore_index=True)\n",
    "    elif \"Sad\" in key:\n",
    "        df=df.append({\"lyrics\":lyrics_dic[key],\"mood\":\"2\"},ignore_index=True)\n",
    "    elif \"Angry\" in key:\n",
    "        df=df.append({\"lyrics\":lyrics_dic[key],\"mood\":\"3\"},ignore_index=True)\n",
    "    elif \"Relaxed\" in key:\n",
    "        df=df.append({\"lyrics\":lyrics_dic[key],\"mood\":\"4\"},ignore_index=True)"
   ]
  },
  {
   "cell_type": "code",
   "execution_count": 168,
   "metadata": {},
   "outputs": [
    {
     "data": {
      "text/html": [
       "<div>\n",
       "<style scoped>\n",
       "    .dataframe tbody tr th:only-of-type {\n",
       "        vertical-align: middle;\n",
       "    }\n",
       "\n",
       "    .dataframe tbody tr th {\n",
       "        vertical-align: top;\n",
       "    }\n",
       "\n",
       "    .dataframe thead th {\n",
       "        text-align: right;\n",
       "    }\n",
       "</style>\n",
       "<table border=\"1\" class=\"dataframe\">\n",
       "  <thead>\n",
       "    <tr style=\"text-align: right;\">\n",
       "      <th></th>\n",
       "      <th>lyrics</th>\n",
       "      <th>mood</th>\n",
       "    </tr>\n",
       "  </thead>\n",
       "  <tbody>\n",
       "    <tr>\n",
       "      <th>0</th>\n",
       "      <td>Put your lips close to mine\\nAs long as they d...</td>\n",
       "      <td>1</td>\n",
       "    </tr>\n",
       "    <tr>\n",
       "      <th>1</th>\n",
       "      <td>My lullaby,hung out to dry\\nWhat's up with tha...</td>\n",
       "      <td>1</td>\n",
       "    </tr>\n",
       "    <tr>\n",
       "      <th>2</th>\n",
       "      <td>Though you've played at love and lost\\nAnd sor...</td>\n",
       "      <td>1</td>\n",
       "    </tr>\n",
       "    <tr>\n",
       "      <th>3</th>\n",
       "      <td>we know we are the ones\\nwho do it numb again\\...</td>\n",
       "      <td>1</td>\n",
       "    </tr>\n",
       "    <tr>\n",
       "      <th>4</th>\n",
       "      <td>Another day has come and gone\\nThey fade away ...</td>\n",
       "      <td>1</td>\n",
       "    </tr>\n",
       "  </tbody>\n",
       "</table>\n",
       "</div>"
      ],
      "text/plain": [
       "                                              lyrics mood\n",
       "0  Put your lips close to mine\\nAs long as they d...    1\n",
       "1  My lullaby,hung out to dry\\nWhat's up with tha...    1\n",
       "2  Though you've played at love and lost\\nAnd sor...    1\n",
       "3  we know we are the ones\\nwho do it numb again\\...    1\n",
       "4  Another day has come and gone\\nThey fade away ...    1"
      ]
     },
     "execution_count": 168,
     "metadata": {},
     "output_type": "execute_result"
    }
   ],
   "source": [
    "df.head()"
   ]
  },
  {
   "cell_type": "code",
   "execution_count": 169,
   "metadata": {},
   "outputs": [],
   "source": [
    "df = df.sample(frac=1).reset_index(drop=True)"
   ]
  },
  {
   "cell_type": "code",
   "execution_count": 170,
   "metadata": {},
   "outputs": [],
   "source": [
    "df_new=pd.read_csv(\"df_mood_backup.csv\")"
   ]
  },
  {
   "cell_type": "code",
   "execution_count": 171,
   "metadata": {},
   "outputs": [
    {
     "data": {
      "text/html": [
       "<div>\n",
       "<style scoped>\n",
       "    .dataframe tbody tr th:only-of-type {\n",
       "        vertical-align: middle;\n",
       "    }\n",
       "\n",
       "    .dataframe tbody tr th {\n",
       "        vertical-align: top;\n",
       "    }\n",
       "\n",
       "    .dataframe thead th {\n",
       "        text-align: right;\n",
       "    }\n",
       "</style>\n",
       "<table border=\"1\" class=\"dataframe\">\n",
       "  <thead>\n",
       "    <tr style=\"text-align: right;\">\n",
       "      <th></th>\n",
       "      <th>Unnamed: 0</th>\n",
       "      <th>file</th>\n",
       "      <th>artist</th>\n",
       "      <th>title</th>\n",
       "      <th>lyrics</th>\n",
       "      <th>tags</th>\n",
       "      <th>mood</th>\n",
       "    </tr>\n",
       "  </thead>\n",
       "  <tbody>\n",
       "    <tr>\n",
       "      <th>600</th>\n",
       "      <td>9913</td>\n",
       "      <td>TRAREDZ12903CFB6E3.h5</td>\n",
       "      <td>Pelle Carlberg</td>\n",
       "      <td>Clever Girls Like Clever Boys Much More Than C...</td>\n",
       "      <td>You should have listened to what mama said\\nAn...</td>\n",
       "      <td>['handclaps', 'title is a full sentence', 'ind...</td>\n",
       "      <td>1</td>\n",
       "    </tr>\n",
       "    <tr>\n",
       "      <th>601</th>\n",
       "      <td>9943</td>\n",
       "      <td>TRATTMT128F149167B.h5</td>\n",
       "      <td>Michael Jackson</td>\n",
       "      <td>Ain't No Sunshine</td>\n",
       "      <td>Spoken Intro:\\nYou ever want something\\nThat y...</td>\n",
       "      <td>['soul', 'michael jackson', '70s', 'pop', 'cov...</td>\n",
       "      <td>2</td>\n",
       "    </tr>\n",
       "    <tr>\n",
       "      <th>602</th>\n",
       "      <td>9966</td>\n",
       "      <td>TRAWFGF128E0792FE0.h5</td>\n",
       "      <td>Extreme</td>\n",
       "      <td>Stop The World</td>\n",
       "      <td>All the world's a masquerade\\nMade up of fools...</td>\n",
       "      <td>['hard rock', 'rock', 'funk metal', 'Power bal...</td>\n",
       "      <td>2</td>\n",
       "    </tr>\n",
       "    <tr>\n",
       "      <th>603</th>\n",
       "      <td>9967</td>\n",
       "      <td>TRAWFVE128F42912CA.h5</td>\n",
       "      <td>Dimmu Borgir</td>\n",
       "      <td>Sympozium</td>\n",
       "      <td>Chains of despair cloacked by darkness\\nThe th...</td>\n",
       "      <td>['Symphonic Black Metal', 'black metal', 'melo...</td>\n",
       "      <td>3</td>\n",
       "    </tr>\n",
       "    <tr>\n",
       "      <th>604</th>\n",
       "      <td>9969</td>\n",
       "      <td>TRBDMIN128F147FCBB.h5</td>\n",
       "      <td>Phil Collins</td>\n",
       "      <td>One More Night</td>\n",
       "      <td>One more night\\nOne more night\\n\\nI've been tr...</td>\n",
       "      <td>['80s', 'pop', 'Phil Collins', 'soft rock', 'r...</td>\n",
       "      <td>2</td>\n",
       "    </tr>\n",
       "  </tbody>\n",
       "</table>\n",
       "</div>"
      ],
      "text/plain": [
       "     Unnamed: 0                   file           artist  \\\n",
       "600        9913  TRAREDZ12903CFB6E3.h5   Pelle Carlberg   \n",
       "601        9943  TRATTMT128F149167B.h5  Michael Jackson   \n",
       "602        9966  TRAWFGF128E0792FE0.h5          Extreme   \n",
       "603        9967  TRAWFVE128F42912CA.h5     Dimmu Borgir   \n",
       "604        9969  TRBDMIN128F147FCBB.h5     Phil Collins   \n",
       "\n",
       "                                                 title  \\\n",
       "600  Clever Girls Like Clever Boys Much More Than C...   \n",
       "601                                  Ain't No Sunshine   \n",
       "602                                     Stop The World   \n",
       "603                                          Sympozium   \n",
       "604                                     One More Night   \n",
       "\n",
       "                                                lyrics  \\\n",
       "600  You should have listened to what mama said\\nAn...   \n",
       "601  Spoken Intro:\\nYou ever want something\\nThat y...   \n",
       "602  All the world's a masquerade\\nMade up of fools...   \n",
       "603  Chains of despair cloacked by darkness\\nThe th...   \n",
       "604  One more night\\nOne more night\\n\\nI've been tr...   \n",
       "\n",
       "                                                  tags  mood  \n",
       "600  ['handclaps', 'title is a full sentence', 'ind...     1  \n",
       "601  ['soul', 'michael jackson', '70s', 'pop', 'cov...     2  \n",
       "602  ['hard rock', 'rock', 'funk metal', 'Power bal...     2  \n",
       "603  ['Symphonic Black Metal', 'black metal', 'melo...     3  \n",
       "604  ['80s', 'pop', 'Phil Collins', 'soft rock', 'r...     2  "
      ]
     },
     "execution_count": 171,
     "metadata": {},
     "output_type": "execute_result"
    }
   ],
   "source": [
    "df_new.tail()"
   ]
  },
  {
   "cell_type": "code",
   "execution_count": 172,
   "metadata": {},
   "outputs": [],
   "source": [
    "df_new=df_new[[\"lyrics\",\"mood\"]]"
   ]
  },
  {
   "cell_type": "markdown",
   "metadata": {},
   "source": [
    "## Append the previous Dataset of 605 songs with this new dataset, containing 777 songs. Our new dataset contains 1382 song lyrics and corresponding mood categories"
   ]
  },
  {
   "cell_type": "code",
   "execution_count": 173,
   "metadata": {},
   "outputs": [],
   "source": [
    "df3=df.append(df_new,ignore_index=True)"
   ]
  },
  {
   "cell_type": "code",
   "execution_count": 174,
   "metadata": {},
   "outputs": [],
   "source": [
    "df3[\"mood\"]=df3[\"mood\"].apply(str)"
   ]
  },
  {
   "cell_type": "code",
   "execution_count": 175,
   "metadata": {},
   "outputs": [
    {
     "data": {
      "text/plain": [
       "(1382, 2)"
      ]
     },
     "execution_count": 175,
     "metadata": {},
     "output_type": "execute_result"
    }
   ],
   "source": [
    "df3.shape"
   ]
  },
  {
   "cell_type": "code",
   "execution_count": 176,
   "metadata": {},
   "outputs": [],
   "source": [
    "set(df3[\"mood\"].values)\n",
    "df=df3"
   ]
  },
  {
   "cell_type": "markdown",
   "metadata": {},
   "source": [
    "## For the Test Dataset, we have taken lyrics from hindi bollywood songs, translated them into english using Google Translate API, annotated them with Happy, Sad, Angry, Relaxed    (for checking accuracy on the hindi songs)"
   ]
  },
  {
   "cell_type": "code",
   "execution_count": 77,
   "metadata": {},
   "outputs": [],
   "source": [
    "df_new=pd.read_excel(\"test.xls\")"
   ]
  },
  {
   "cell_type": "code",
   "execution_count": 78,
   "metadata": {},
   "outputs": [
    {
     "data": {
      "text/plain": [
       "(235, 5)"
      ]
     },
     "execution_count": 78,
     "metadata": {},
     "output_type": "execute_result"
    }
   ],
   "source": [
    "df_new.shape"
   ]
  },
  {
   "cell_type": "code",
   "execution_count": 79,
   "metadata": {},
   "outputs": [],
   "source": [
    "df_new=df_new[['lyrics','mood']]\n",
    "df_new=df_new.dropna()"
   ]
  },
  {
   "cell_type": "code",
   "execution_count": 80,
   "metadata": {},
   "outputs": [],
   "source": [
    "df_new['mood']=df_new['mood'].astype(int)"
   ]
  },
  {
   "cell_type": "code",
   "execution_count": 81,
   "metadata": {},
   "outputs": [],
   "source": [
    "df_new['mood'].value_counts()\n",
    "df_new[\"mood\"]=df_new[\"mood\"].apply(str)"
   ]
  },
  {
   "cell_type": "markdown",
   "metadata": {},
   "source": [
    "### As our test dataset is labelled manually and training dataset is auto-labelled from the tags of Last.FM and Hao's paper, we add a fraction of translated-to-english songs to our training dataset to level the biasness of the testing dataset. "
   ]
  },
  {
   "cell_type": "code",
   "execution_count": 82,
   "metadata": {},
   "outputs": [
    {
     "data": {
      "text/plain": [
       "{'1', '2', '3', '4'}"
      ]
     },
     "execution_count": 82,
     "metadata": {},
     "output_type": "execute_result"
    }
   ],
   "source": [
    "df=df.append(df_new.sample(n=100),ignore_index=True)\n",
    "df = df.sample(frac=1).reset_index(drop=True)\n",
    "set(df[\"mood\"].values)"
   ]
  },
  {
   "cell_type": "markdown",
   "metadata": {},
   "source": [
    "### df contains the initial training dataset for our prediction model."
   ]
  },
  {
   "cell_type": "code",
   "execution_count": null,
   "metadata": {},
   "outputs": [],
   "source": [
    "df.to_csv('training_backup.csv',index=False)"
   ]
  },
  {
   "cell_type": "markdown",
   "metadata": {},
   "source": [
    "### df_new contains the initial testing dataset for our prediction model."
   ]
  },
  {
   "cell_type": "code",
   "execution_count": null,
   "metadata": {},
   "outputs": [],
   "source": [
    "df_new.to_csv('testing_backup.csv',index=False)"
   ]
  },
  {
   "cell_type": "code",
   "execution_count": null,
   "metadata": {},
   "outputs": [],
   "source": []
  }
 ],
 "metadata": {
  "kernelspec": {
   "display_name": "Python 3",
   "language": "python",
   "name": "python3"
  },
  "language_info": {
   "codemirror_mode": {
    "name": "ipython",
    "version": 3
   },
   "file_extension": ".py",
   "mimetype": "text/x-python",
   "name": "python",
   "nbconvert_exporter": "python",
   "pygments_lexer": "ipython3",
   "version": "3.8.3"
  }
 },
 "nbformat": 4,
 "nbformat_minor": 2
}
